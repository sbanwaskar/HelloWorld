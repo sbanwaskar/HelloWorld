{
  "nbformat": 4,
  "nbformat_minor": 0,
  "metadata": {
    "colab": {
      "name": "FastJTNNpy3.ipynb",
      "provenance": [],
      "collapsed_sections": [],
      "include_colab_link": true
    },
    "kernelspec": {
      "name": "python3",
      "display_name": "Python 3"
    },
    "language_info": {
      "name": "python"
    },
    "accelerator": "GPU"
  },
  "cells": [
    {
      "cell_type": "markdown",
      "metadata": {
        "id": "view-in-github",
        "colab_type": "text"
      },
      "source": [
        "<a href=\"https://colab.research.google.com/github/sbanwaskar/HelloWorld/blob/5-14-2021/FastJTNNpy3.ipynb\" target=\"_parent\"><img src=\"https://colab.research.google.com/assets/colab-badge.svg\" alt=\"Open In Colab\"/></a>"
      ]
    },
    {
      "cell_type": "code",
      "metadata": {
        "colab": {
          "base_uri": "https://localhost:8080/"
        },
        "id": "COKlcbcZ4vLt",
        "outputId": "c529e077-2e92-44b2-bff0-b3f8d599d89f"
      },
      "source": [
        "!wget -c https://repo.anaconda.com/miniconda/Miniconda3-4.5.4-Linux-x86_64.sh \n",
        "!chmod +x Miniconda3-4.5.4-Linux-x86_64.sh \n",
        "!bash ./Miniconda3-4.5.4-Linux-x86_64.sh -b -f -p /usr/local\n",
        "!conda install -y -c rdkit rdkit\n",
        "\n",
        "! git clone https://github.com/Bibyutatsu/FastJTNNpy3.git"
      ],
      "execution_count": null,
      "outputs": [
        {
          "output_type": "stream",
          "text": [
            "--2021-05-10 20:19:55--  https://repo.anaconda.com/miniconda/Miniconda3-4.5.4-Linux-x86_64.sh\n",
            "Resolving repo.anaconda.com (repo.anaconda.com)... 104.16.131.3, 104.16.130.3, 2606:4700::6810:8203, ...\n",
            "Connecting to repo.anaconda.com (repo.anaconda.com)|104.16.131.3|:443... connected.\n",
            "HTTP request sent, awaiting response... 200 OK\n",
            "Length: 58468498 (56M) [application/x-sh]\n",
            "Saving to: ‘Miniconda3-4.5.4-Linux-x86_64.sh’\n",
            "\n",
            "Miniconda3-4.5.4-Li 100%[===================>]  55.76M   228MB/s    in 0.2s    \n",
            "\n",
            "2021-05-10 20:19:55 (228 MB/s) - ‘Miniconda3-4.5.4-Linux-x86_64.sh’ saved [58468498/58468498]\n",
            "\n",
            "PREFIX=/usr/local\n",
            "installing: python-3.6.5-hc3d631a_2 ...\n",
            "Python 3.6.5 :: Anaconda, Inc.\n",
            "installing: ca-certificates-2018.03.07-0 ...\n",
            "installing: conda-env-2.6.0-h36134e3_1 ...\n",
            "installing: libgcc-ng-7.2.0-hdf63c60_3 ...\n",
            "installing: libstdcxx-ng-7.2.0-hdf63c60_3 ...\n",
            "installing: libffi-3.2.1-hd88cf55_4 ...\n",
            "installing: ncurses-6.1-hf484d3e_0 ...\n",
            "installing: openssl-1.0.2o-h20670df_0 ...\n",
            "installing: tk-8.6.7-hc745277_3 ...\n",
            "installing: xz-5.2.4-h14c3975_4 ...\n",
            "installing: yaml-0.1.7-had09818_2 ...\n",
            "installing: zlib-1.2.11-ha838bed_2 ...\n",
            "installing: libedit-3.1.20170329-h6b74fdf_2 ...\n",
            "installing: readline-7.0-ha6073c6_4 ...\n",
            "installing: sqlite-3.23.1-he433501_0 ...\n",
            "installing: asn1crypto-0.24.0-py36_0 ...\n",
            "installing: certifi-2018.4.16-py36_0 ...\n",
            "installing: chardet-3.0.4-py36h0f667ec_1 ...\n",
            "installing: idna-2.6-py36h82fb2a8_1 ...\n",
            "installing: pycosat-0.6.3-py36h0a5515d_0 ...\n",
            "installing: pycparser-2.18-py36hf9f622e_1 ...\n",
            "installing: pysocks-1.6.8-py36_0 ...\n",
            "installing: ruamel_yaml-0.15.37-py36h14c3975_2 ...\n",
            "installing: six-1.11.0-py36h372c433_1 ...\n",
            "installing: cffi-1.11.5-py36h9745a5d_0 ...\n",
            "installing: setuptools-39.2.0-py36_0 ...\n",
            "installing: cryptography-2.2.2-py36h14c3975_0 ...\n",
            "installing: wheel-0.31.1-py36_0 ...\n",
            "installing: pip-10.0.1-py36_0 ...\n",
            "installing: pyopenssl-18.0.0-py36_0 ...\n",
            "installing: urllib3-1.22-py36hbe7ace6_0 ...\n",
            "installing: requests-2.18.4-py36he2e5f8d_1 ...\n",
            "installing: conda-4.5.4-py36_0 ...\n",
            "installation finished.\n",
            "WARNING:\n",
            "    You currently have a PYTHONPATH environment variable set. This may cause\n",
            "    unexpected behavior when running the Python interpreter in Miniconda3.\n",
            "    For best results, please verify that your PYTHONPATH only points to\n",
            "    directories of packages that are compatible with the Python interpreter\n",
            "    in Miniconda3: /usr/local\n",
            "Solving environment: - \b\b\\ \b\b| \b\b/ \b\b- \b\b\\ \b\b| \b\b/ \b\b- \b\b\\ \b\b| \b\b/ \b\b- \b\b\\ \b\b| \b\b/ \b\b- \b\b\\ \b\b| \b\b/ \b\b- \b\b\\ \b\b| \b\b/ \b\b- \b\b\\ \b\b| \b\b/ \b\b- \b\b\\ \b\b| \b\b/ \b\b- \b\b\\ \b\b| \b\b/ \b\b- \b\b\\ \b\b| \b\b/ \b\b- \b\b\\ \b\b| \b\b/ \b\b- \b\b\\ \b\b| \b\b/ \b\b- \b\b\\ \b\b| \b\b/ \b\b- \b\b\\ \b\b| \b\b/ \b\b- \b\b\\ \b\b| \b\b/ \b\b- \b\b\\ \b\b| \b\b/ \b\b- \b\b\\ \b\b| \b\b/ \b\b- \b\b\\ \b\b| \b\b/ \b\b- \b\b\\ \b\b| \b\b/ \b\b- \b\b\\ \b\b| \b\b/ \b\b- \b\b\\ \b\b| \b\b/ \b\b- \b\b\\ \b\b| \b\b/ \b\b- \b\b\\ \b\b| \b\b/ \b\b- \b\b\\ \b\b| \b\b/ \b\b- \b\b\\ \b\b| \b\b/ \b\b- \b\b\\ \b\b| \b\b/ \b\b- \b\b\\ \b\b| \b\b/ \b\b- \b\b\\ \b\b| \b\b/ \b\b- \b\b\\ \b\b| \b\b/ \b\b- \b\b\\ \b\b| \b\b/ \b\b- \b\b\\ \b\b| \b\b/ \b\b- \b\b\\ \b\b| \b\b/ \b\b- \b\b\\ \b\b| \b\b/ \b\b- \b\b\\ \b\b| \b\b/ \b\b- \b\b\\ \b\b| \b\b/ \b\b- \b\b\\ \b\b| \b\b/ \b\b- \b\b\\ \b\b| \b\b/ \b\b- \b\b\\ \b\b| \b\b/ \b\b- \b\b\\ \b\b| \b\b/ \b\b- \b\b\\ \b\b| \b\b/ \b\b- \b\b\\ \b\b| \b\b/ \b\b- \b\b\\ \b\b| \b\b/ \b\b- \b\b\\ \b\b| \b\b/ \b\b- \b\b\\ \b\b| \b\b/ \b\b- \b\b\\ \b\b| \b\b/ \b\b- \b\b\\ \b\b| \b\b/ \b\b- \b\b\\ \b\b| \b\b/ \b\b- \b\b\\ \b\b| \b\b/ \b\b- \b\b\\ \b\b| \b\b/ \b\b- \b\b\\ \b\b| \b\b/ \b\b- \b\b\\ \b\b| \b\b/ \b\b- \b\b\\ \b\b| \b\b/ \b\b- \b\b\\ \b\b| \b\b/ \b\b- \b\b\\ \b\b| \b\b/ \b\b- \b\b\\ \b\b| \b\b/ \b\b- \b\b\\ \b\b| \b\b/ \b\b- \b\b\\ \b\b| \b\b/ \b\b- \b\b\\ \b\b| \b\b/ \b\b- \b\b\\ \b\b| \b\b/ \b\b- \b\b\\ \b\b| \b\b/ \b\b- \b\b\\ \b\b| \b\b/ \b\b- \b\b\\ \b\b| \b\b/ \b\b- \b\b\\ \b\b| \b\b/ \b\b- \b\b\\ \b\b| \b\b/ \b\b- \b\b\\ \b\b| \b\b/ \b\b- \b\b\\ \b\b| \b\b/ \b\b- \b\b\\ \b\b| \b\b/ \b\b- \b\b\\ \b\b| \b\b/ \b\b- \b\b\\ \b\b| \b\b/ \b\b- \b\b\\ \b\b| \b\b/ \b\b- \b\b\\ \b\b| \b\b/ \b\b- \b\b\\ \b\b| \b\b/ \b\b- \b\b\\ \b\b| \b\b/ \b\b- \b\b\\ \b\b| \b\b/ \b\b- \b\b\\ \b\b| \b\b/ \b\b- \b\b\\ \b\b| \b\b/ \b\b- \b\b\\ \b\b| \b\b/ \b\b- \b\b\\ \b\b| \b\b/ \b\b- \b\b\\ \b\b| \b\b/ \b\b- \b\b\\ \b\b| \b\b/ \b\b- \b\b\\ \b\b| \b\b/ \b\b- \b\b\\ \b\b| \b\b/ \b\b- \b\b\\ \b\b| \b\b/ \b\b- \b\b\\ \b\b| \b\b/ \b\b- \b\b\\ \b\b| \b\b/ \b\b- \b\b\\ \b\b| \b\b/ \b\b- \b\b\\ \b\b| \b\b/ \b\b- \b\b\\ \b\b| \b\b/ \b\b- \b\b\\ \b\b| \b\b/ \b\b- \b\b\\ \b\b| \b\b/ \b\b- \b\b\\ \b\b| \b\b/ \b\b- \b\b\\ \b\b| \b\b/ \b\b- \b\b\\ \b\b| \b\b/ \b\b- \b\b\\ \b\b| \b\b/ \b\b- \b\b\\ \b\b| \b\b/ \b\b- \b\b\\ \b\b| \b\b/ \b\b- \b\b\\ \b\b| \b\b/ \b\b- \b\b\\ \b\b| \b\b/ \b\b- \b\b\\ \b\b| \b\b/ \b\b- \b\b\\ \b\b| \b\b/ \b\b- \b\b\\ \b\b| \b\b/ \b\b- \b\b\\ \b\b| \b\b/ \b\b- \b\b\\ \b\b| \b\b/ \b\b- \b\b\\ \b\b| \b\b/ \b\b- \b\b\\ \b\b| \b\b/ \b\b- \b\b\\ \b\b| \b\b/ \b\b- \b\b\\ \b\b| \b\b/ \b\b- \b\b\\ \b\b| \b\b/ \b\b- \b\b\\ \b\b| \b\b/ \b\b- \b\b\\ \b\b| \b\b/ \b\b- \b\b\\ \b\b| \b\b/ \b\b- \b\b\\ \b\b| \b\b/ \b\b- \b\b\\ \b\b| \b\b/ \b\b- \b\b\\ \b\b| \b\b/ \b\b- \b\b\\ \b\b| \b\b/ \b\b- \b\b\\ \b\b| \b\b/ \b\b- \b\b\\ \b\b| \b\b/ \b\b- \b\b\\ \b\b| \b\b/ \b\b- \b\b\\ \b\b| \b\b/ \b\b- \b\b\\ \b\b| \b\b/ \b\b- \b\b\\ \b\b| \b\b/ \b\b- \b\b\\ \b\b| \b\b/ \b\b- \b\b\\ \b\b| \b\b/ \b\b- \b\b\\ \b\b| \b\b/ \b\b- \b\b\\ \b\b| \b\b/ \b\b- \b\b\\ \b\b| \b\b/ \b\b- \b\b\\ \b\b| \b\b/ \b\b- \b\b\\ \b\b| \b\b/ \b\b- \b\b\\ \b\b| \b\b/ \b\b- \b\b\\ \b\b| \b\b/ \b\b- \b\b\\ \b\b| \b\b/ \b\b- \b\b\\ \b\b| \b\b/ \b\b- \b\b\\ \b\b| \b\b/ \b\b- \b\b\\ \b\b| \b\b/ \b\b- \b\b\\ \b\b| \b\b/ \b\b- \b\b\\ \b\b| \b\b/ \b\b- \b\b\\ \b\b| \b\b/ \b\b- \b\b\\ \b\b| \b\b/ \b\b- \b\b\\ \b\b| \b\b/ \b\b- \b\b\\ \b\b| \b\bdone\n",
            "\n",
            "\n",
            "==> WARNING: A newer version of conda exists. <==\n",
            "  current version: 4.5.4\n",
            "  latest version: 4.10.1\n",
            "\n",
            "Please update conda by running\n",
            "\n",
            "    $ conda update -n base conda\n",
            "\n",
            "\n",
            "\n",
            "## Package Plan ##\n",
            "\n",
            "  environment location: /usr/local\n",
            "\n",
            "  added / updated specs: \n",
            "    - rdkit\n",
            "\n",
            "\n",
            "The following packages will be downloaded:\n",
            "\n",
            "    package                    |            build\n",
            "    ---------------------------|-----------------\n",
            "    pytz-2021.1                |     pyhd3eb1b0_0         244 KB\n",
            "    pip-21.0.1                 |   py36h06a4308_0         2.0 MB\n",
            "    intel-openmp-2021.2.0      |     h06a4308_610         1.9 MB\n",
            "    zstd-1.4.5                 |       h9ceee32_0         716 KB\n",
            "    tk-8.6.10                  |       hbc83047_0         3.2 MB\n",
            "    pandas-1.1.5               |   py36ha9443f7_0        10.5 MB\n",
            "    setuptools-52.0.0          |   py36h06a4308_0         933 KB\n",
            "    mkl_fft-1.3.0              |   py36h54f3939_0         185 KB\n",
            "    jpeg-9b                    |       h024ee3a_2         248 KB\n",
            "    libffi-3.2.1               |    hf484d3e_1007          52 KB\n",
            "    pixman-0.40.0              |       h7b6447c_0         628 KB\n",
            "    fontconfig-2.13.1          |       h6c09931_0         299 KB\n",
            "    py-boost-1.73.0            |  py36ha9443f7_11         256 KB\n",
            "    libedit-3.1                |       heed3624_0         171 KB\n",
            "    ca-certificates-2021.4.13  |       h06a4308_1         120 KB\n",
            "    openssl-1.0.2u             |       h7b6447c_0         3.1 MB\n",
            "    _libgcc_mutex-0.1          |             main           3 KB\n",
            "    libstdcxx-ng-9.1.0         |       hdf63c60_0         4.0 MB\n",
            "    rdkit-2020.09.1.0          |   py36hd50e099_1        26.0 MB  rdkit\n",
            "    certifi-2020.12.5          |   py36h06a4308_0         144 KB\n",
            "    icu-58.2                   |       he6710b0_3        22.7 MB\n",
            "    libxcb-1.14                |       h7b6447c_0         610 KB\n",
            "    zlib-1.2.11                |       h7b6447c_3         120 KB\n",
            "    lz4-c-1.9.3                |       h2531618_0         216 KB\n",
            "    libxml2-2.9.10             |       hb55368b_3         1.3 MB\n",
            "    olefile-0.46               |             py_0          33 KB\n",
            "    libtiff-4.2.0              |       h85742a9_0         640 KB\n",
            "    python-dateutil-2.8.1      |     pyhd3eb1b0_0         221 KB\n",
            "    ncurses-6.0                |                0         1.8 MB  rdkit\n",
            "    freetype-2.10.4            |       h5ab3b9f_0         901 KB\n",
            "    mkl_random-1.1.1           |   py36h0573a6f_0         382 KB\n",
            "    blas-1.0                   |              mkl           6 KB\n",
            "    glib-2.63.1                |       h5a9c865_0         3.4 MB\n",
            "    pillow-8.2.0               |   py36he98fc37_0         689 KB\n",
            "    mkl-2020.2                 |              256       213.9 MB\n",
            "    six-1.15.0                 |     pyhd3eb1b0_0          13 KB\n",
            "    libwebp-base-1.2.0         |       h27cfd23_0         849 KB\n",
            "    libgcc-ng-9.1.0            |       hdf63c60_0         8.1 MB\n",
            "    libuuid-1.0.3              |       h1bed415_2          16 KB\n",
            "    cairo-1.14.12              |       h8948797_3         1.3 MB\n",
            "    bzip2-1.0.8                |       h7b6447c_0         105 KB\n",
            "    numpy-1.19.2               |   py36h54aff64_0          21 KB\n",
            "    libboost-1.73.0            |      h3ff78a5_11        21.3 MB\n",
            "    libpng-1.6.37              |       hbc83047_0         364 KB\n",
            "    lcms2-2.12                 |       h3be6417_0         396 KB\n",
            "    mkl-service-2.3.0          |   py36he8ac12f_0          56 KB\n",
            "    pcre-8.44                  |       he6710b0_0         269 KB\n",
            "    wheel-0.36.2               |     pyhd3eb1b0_0          31 KB\n",
            "    numpy-base-1.19.2          |   py36hfa32c7d_0         5.2 MB\n",
            "    xz-5.2.5                   |       h7b6447c_0         438 KB\n",
            "    ------------------------------------------------------------\n",
            "                                           Total:       340.0 MB\n",
            "\n",
            "The following NEW packages will be INSTALLED:\n",
            "\n",
            "    _libgcc_mutex:   0.1-main                        \n",
            "    blas:            1.0-mkl                         \n",
            "    bzip2:           1.0.8-h7b6447c_0                \n",
            "    cairo:           1.14.12-h8948797_3              \n",
            "    fontconfig:      2.13.1-h6c09931_0               \n",
            "    freetype:        2.10.4-h5ab3b9f_0               \n",
            "    glib:            2.63.1-h5a9c865_0               \n",
            "    icu:             58.2-he6710b0_3                 \n",
            "    intel-openmp:    2021.2.0-h06a4308_610           \n",
            "    jpeg:            9b-h024ee3a_2                   \n",
            "    lcms2:           2.12-h3be6417_0                 \n",
            "    libboost:        1.73.0-h3ff78a5_11              \n",
            "    libpng:          1.6.37-hbc83047_0               \n",
            "    libtiff:         4.2.0-h85742a9_0                \n",
            "    libuuid:         1.0.3-h1bed415_2                \n",
            "    libwebp-base:    1.2.0-h27cfd23_0                \n",
            "    libxcb:          1.14-h7b6447c_0                 \n",
            "    libxml2:         2.9.10-hb55368b_3               \n",
            "    lz4-c:           1.9.3-h2531618_0                \n",
            "    mkl:             2020.2-256                      \n",
            "    mkl-service:     2.3.0-py36he8ac12f_0            \n",
            "    mkl_fft:         1.3.0-py36h54f3939_0            \n",
            "    mkl_random:      1.1.1-py36h0573a6f_0            \n",
            "    numpy:           1.19.2-py36h54aff64_0           \n",
            "    numpy-base:      1.19.2-py36hfa32c7d_0           \n",
            "    olefile:         0.46-py_0                       \n",
            "    pandas:          1.1.5-py36ha9443f7_0            \n",
            "    pcre:            8.44-he6710b0_0                 \n",
            "    pillow:          8.2.0-py36he98fc37_0            \n",
            "    pixman:          0.40.0-h7b6447c_0               \n",
            "    py-boost:        1.73.0-py36ha9443f7_11          \n",
            "    python-dateutil: 2.8.1-pyhd3eb1b0_0              \n",
            "    pytz:            2021.1-pyhd3eb1b0_0             \n",
            "    rdkit:           2020.09.1.0-py36hd50e099_1 rdkit\n",
            "    zstd:            1.4.5-h9ceee32_0                \n",
            "\n",
            "The following packages will be UPDATED:\n",
            "\n",
            "    ca-certificates: 2018.03.07-0                     --> 2021.4.13-h06a4308_1          \n",
            "    certifi:         2018.4.16-py36_0                 --> 2020.12.5-py36h06a4308_0      \n",
            "    libffi:          3.2.1-hd88cf55_4                 --> 3.2.1-hf484d3e_1007           \n",
            "    libgcc-ng:       7.2.0-hdf63c60_3                 --> 9.1.0-hdf63c60_0              \n",
            "    libstdcxx-ng:    7.2.0-hdf63c60_3                 --> 9.1.0-hdf63c60_0              \n",
            "    openssl:         1.0.2o-h20670df_0                --> 1.0.2u-h7b6447c_0             \n",
            "    pip:             10.0.1-py36_0                    --> 21.0.1-py36h06a4308_0         \n",
            "    setuptools:      39.2.0-py36_0                    --> 52.0.0-py36h06a4308_0         \n",
            "    six:             1.11.0-py36h372c433_1            --> 1.15.0-pyhd3eb1b0_0           \n",
            "    tk:              8.6.7-hc745277_3                 --> 8.6.10-hbc83047_0             \n",
            "    wheel:           0.31.1-py36_0                    --> 0.36.2-pyhd3eb1b0_0           \n",
            "    xz:              5.2.4-h14c3975_4                 --> 5.2.5-h7b6447c_0              \n",
            "    zlib:            1.2.11-ha838bed_2                --> 1.2.11-h7b6447c_3             \n",
            "\n",
            "The following packages will be DOWNGRADED:\n",
            "\n",
            "    libedit:         3.1.20170329-h6b74fdf_2          --> 3.1-heed3624_0                \n",
            "    ncurses:         6.1-hf484d3e_0                   --> 6.0-0                    rdkit\n",
            "\n",
            "\n",
            "Downloading and Extracting Packages\n",
            "pytz-2021.1          |  244 KB | : 100% 1.0/1 [00:00<00:00,  4.71it/s]               \n",
            "pip-21.0.1           |  2.0 MB | : 100% 1.0/1 [00:00<00:00,  1.68it/s]               \n",
            "intel-openmp-2021.2. |  1.9 MB | : 100% 1.0/1 [00:00<00:00,  3.26it/s]               \n",
            "zstd-1.4.5           |  716 KB | : 100% 1.0/1 [00:00<00:00,  7.82it/s]              \n",
            "tk-8.6.10            |  3.2 MB | : 100% 1.0/1 [00:00<00:00,  1.56it/s]              \n",
            "pandas-1.1.5         | 10.5 MB | : 100% 1.0/1 [00:02<00:00,  2.45s/it]               \n",
            "setuptools-52.0.0    |  933 KB | : 100% 1.0/1 [00:00<00:00,  3.57it/s]               \n",
            "mkl_fft-1.3.0        |  185 KB | : 100% 1.0/1 [00:00<00:00, 18.88it/s]\n",
            "jpeg-9b              |  248 KB | : 100% 1.0/1 [00:00<00:00, 12.31it/s]\n",
            "libffi-3.2.1         |   52 KB | : 100% 1.0/1 [00:00<00:00, 31.42it/s]\n",
            "pixman-0.40.0        |  628 KB | : 100% 1.0/1 [00:00<00:00,  8.13it/s]               \n",
            "fontconfig-2.13.1    |  299 KB | : 100% 1.0/1 [00:00<00:00,  8.45it/s]\n",
            "py-boost-1.73.0      |  256 KB | : 100% 1.0/1 [00:00<00:00,  8.92it/s]               \n",
            "libedit-3.1          |  171 KB | : 100% 1.0/1 [00:00<00:00, 15.81it/s]\n",
            "ca-certificates-2021 |  120 KB | : 100% 1.0/1 [00:00<00:00, 30.35it/s]\n",
            "openssl-1.0.2u       |  3.1 MB | : 100% 1.0/1 [00:00<00:00,  1.73it/s]               \n",
            "_libgcc_mutex-0.1    |    3 KB | : 100% 1.0/1 [00:00<00:00, 48.87it/s]\n",
            "libstdcxx-ng-9.1.0   |  4.0 MB | : 100% 1.0/1 [00:00<00:00,  1.64it/s]               \n",
            "rdkit-2020.09.1.0    | 26.0 MB | : 100% 1.0/1 [00:04<00:00,  4.83s/it]               \n",
            "certifi-2020.12.5    |  144 KB | : 100% 1.0/1 [00:00<00:00, 26.42it/s]\n",
            "icu-58.2             | 22.7 MB | : 100% 1.0/1 [00:03<00:00,  3.44s/it]               \n",
            "libxcb-1.14          |  610 KB | : 100% 1.0/1 [00:00<00:00,  4.86it/s]               \n",
            "zlib-1.2.11          |  120 KB | : 100% 1.0/1 [00:00<00:00, 19.00it/s]\n",
            "lz4-c-1.9.3          |  216 KB | : 100% 1.0/1 [00:00<00:00, 17.51it/s]\n",
            "libxml2-2.9.10       |  1.3 MB | : 100% 1.0/1 [00:00<00:00,  2.67it/s]               \n",
            "olefile-0.46         |   33 KB | : 100% 1.0/1 [00:00<00:00, 38.73it/s]\n",
            "libtiff-4.2.0        |  640 KB | : 100% 1.0/1 [00:00<00:00,  7.93it/s]               \n",
            "python-dateutil-2.8. |  221 KB | : 100% 1.0/1 [00:00<00:00, 20.27it/s]\n",
            "ncurses-6.0          |  1.8 MB | : 100% 1.0/1 [00:01<00:00,  1.30s/it]               \n",
            "freetype-2.10.4      |  901 KB | : 100% 1.0/1 [00:00<00:00,  5.77it/s]               \n",
            "mkl_random-1.1.1     |  382 KB | : 100% 1.0/1 [00:00<00:00, 12.85it/s]\n",
            "blas-1.0             |    6 KB | : 100% 1.0/1 [00:00<00:00, 46.27it/s]\n",
            "glib-2.63.1          |  3.4 MB | : 100% 1.0/1 [00:00<00:00,  1.23it/s]               \n",
            "pillow-8.2.0         |  689 KB | : 100% 1.0/1 [00:00<00:00,  4.51it/s]               \n",
            "mkl-2020.2           | 213.9 MB | : 100% 1.0/1 [00:37<00:00, 37.18s/it]                \n",
            "six-1.15.0           |   13 KB | : 100% 1.0/1 [00:00<00:00, 37.37it/s]\n",
            "libwebp-base-1.2.0   |  849 KB | : 100% 1.0/1 [00:00<00:00,  5.92it/s]               \n",
            "libgcc-ng-9.1.0      |  8.1 MB | : 100% 1.0/1 [00:01<00:00,  1.27s/it]               \n",
            "libuuid-1.0.3        |   16 KB | : 100% 1.0/1 [00:00<00:00, 30.56it/s]\n",
            "cairo-1.14.12        |  1.3 MB | : 100% 1.0/1 [00:00<00:00,  3.52it/s]               \n",
            "bzip2-1.0.8          |  105 KB | : 100% 1.0/1 [00:00<00:00, 18.64it/s]\n",
            "numpy-1.19.2         |   21 KB | : 100% 1.0/1 [00:00<00:00, 41.42it/s]\n",
            "libboost-1.73.0      | 21.3 MB | : 100% 1.0/1 [00:08<00:00,  8.95s/it]               \n",
            "libpng-1.6.37        |  364 KB | : 100% 1.0/1 [00:00<00:00, 11.74it/s]\n",
            "lcms2-2.12           |  396 KB | : 100% 1.0/1 [00:00<00:00, 10.21it/s]\n",
            "mkl-service-2.3.0    |   56 KB | : 100% 1.0/1 [00:00<00:00, 36.71it/s]\n",
            "pcre-8.44            |  269 KB | : 100% 1.0/1 [00:00<00:00, 13.12it/s]\n",
            "wheel-0.36.2         |   31 KB | : 100% 1.0/1 [00:00<00:00, 25.91it/s]\n",
            "numpy-base-1.19.2    |  5.2 MB | : 100% 1.0/1 [00:01<00:00,  1.24s/it]               \n",
            "xz-5.2.5             |  438 KB | : 100% 1.0/1 [00:00<00:00,  8.47it/s]\n",
            "Preparing transaction: - \b\b\\ \b\b| \b\b/ \b\b- \b\b\\ \b\b| \b\b/ \b\b- \b\b\\ \b\bdone\n",
            "Verifying transaction: / \b\b- \b\b\\ \b\b| \b\b/ \b\b- \b\b\\ \b\b| \b\b/ \b\b- \b\b\\ \b\b| \b\b/ \b\b- \b\b\\ \b\b| \b\b/ \b\b- \b\b\\ \b\b| \b\b/ \b\b- \b\b\\ \b\b| \b\b/ \b\b- \b\b\\ \b\b| \b\b/ \b\b- \b\b\\ \b\b| \b\b/ \b\b- \b\b\\ \b\b| \b\b/ \b\b- \b\b\\ \b\b| \b\b/ \b\b- \b\b\\ \b\b| \b\b/ \b\b- \b\b\\ \b\b| \b\b/ \b\b- \b\b\\ \b\b| \b\b/ \b\b- \b\b\\ \b\b| \b\b/ \b\b- \b\b\\ \b\b| \b\b/ \b\b- \b\b\\ \b\b| \b\b/ \b\b- \b\b\\ \b\b| \b\b/ \b\b- \b\b\\ \b\b| \b\b/ \b\b- \b\b\\ \b\b| \b\b/ \b\bdone\n",
            "Executing transaction: \\ \b\b| \b\b/ \b\b- \b\b\\ \b\b| \b\b/ \b\b- \b\b\\ \b\b| \b\b/ \b\b- \b\b\\ \b\b| \b\b/ \b\b- \b\b\\ \b\b| \b\b/ \b\b- \b\b\\ \b\b| \b\b/ \b\b- \b\b\\ \b\b| \b\b/ \b\b- \b\b\\ \b\b| \b\b/ \b\b- \b\b\\ \b\b| \b\b/ \b\b- \b\b\\ \b\b| \b\b/ \b\b- \b\b\\ \b\b| \b\b/ \b\b- \b\b\\ \b\b| \b\b/ \b\b- \b\b\\ \b\b| \b\b/ \b\b- \b\b\\ \b\b| \b\b/ \b\b- \b\b\\ \b\b| \b\b/ \b\b- \b\b\\ \b\b| \b\b/ \b\b- \b\b\\ \b\b| \b\b/ \b\b- \b\b\\ \b\b| \b\b/ \b\b- \b\b\\ \b\b| \b\b/ \b\b- \b\b\\ \b\b| \b\b/ \b\b- \b\b\\ \b\b| \b\b/ \b\b- \b\b\\ \b\b| \b\b/ \b\b- \b\b\\ \b\b| \b\b/ \b\b- \b\b\\ \b\b| \b\b/ \b\b- \b\b\\ \b\b| \b\b/ \b\b- \b\b\\ \b\b| \b\b/ \b\b- \b\b\\ \b\b| \b\b/ \b\b- \b\b\\ \b\b| \b\b/ \b\b- \b\b\\ \b\b| \b\b/ \b\b- \b\b\\ \b\b| \b\b/ \b\b- \b\b\\ \b\b| \b\b/ \b\b- \b\b\\ \b\b| \b\b/ \b\b- \b\b\\ \b\b| \b\b/ \b\b- \b\b\\ \b\b| \b\b/ \b\b- \b\b\\ \b\b| \b\b/ \b\b- \b\b\\ \b\b| \b\b/ \b\b- \b\b\\ \b\b| \b\b/ \b\b- \b\b\\ \b\b| \b\b/ \b\b- \b\b\\ \b\b| \b\b/ \b\b- \b\b\\ \b\b| \b\b/ \b\b- \b\b\\ \b\b| \b\b/ \b\b- \b\b\\ \b\b| \b\b/ \b\b- \b\b\\ \b\b| \b\b/ \b\b- \b\b\\ \b\b| \b\b/ \b\b- \b\b\\ \b\b| \b\b/ \b\b- \b\b\\ \b\b| \b\b/ \b\b- \b\b\\ \b\b| \b\b/ \b\b- \b\b\\ \b\b| \b\b/ \b\b- \b\b\\ \b\b| \b\b/ \b\b- \b\b\\ \b\b| \b\b/ \b\b- \b\b\\ \b\b| \b\b/ \b\b- \b\b\\ \b\b| \b\b/ \b\b- \b\b\\ \b\b| \b\b/ \b\b- \b\b\\ \b\b| \b\b/ \b\b- \b\b\\ \b\b| \b\b/ \b\b- \b\b\\ \b\b| \b\b/ \b\b- \b\b\\ \b\b| \b\b/ \b\b- \b\b\\ \b\b| \b\b/ \b\b- \b\b\\ \b\b| \b\b/ \b\b- \b\b\\ \b\b| \b\b/ \b\b- \b\b\\ \b\b| \b\b/ \b\b- \b\b\\ \b\b| \b\b/ \b\b- \b\b\\ \b\b| \b\b/ \b\b- \b\b\\ \b\b| \b\b/ \b\b- \b\b\\ \b\b| \b\b/ \b\b- \b\b\\ \b\b| \b\b/ \b\b- \b\b\\ \b\b| \b\b/ \b\b- \b\b\\ \b\b| \b\b/ \b\b- \b\b\\ \b\b| \b\b/ \b\b- \b\b\\ \b\b| \b\b/ \b\b- \b\b\\ \b\b| \b\b/ \b\b- \b\b\\ \b\b| \b\b/ \b\b- \b\b\\ \b\b| \b\b/ \b\b- \b\b\\ \b\b| \b\b/ \b\b- \b\b\\ \b\b| \b\b/ \b\b- \b\b\\ \b\b| \b\b/ \b\b- \b\b\\ \b\b| \b\b/ \b\b- \b\b\\ \b\b| \b\b/ \b\b- \b\b\\ \b\b| \b\b/ \b\b- \b\b\\ \b\b| \b\b/ \b\b- \b\b\\ \b\b| \b\b/ \b\b- \b\b\\ \b\b| \b\b/ \b\b- \b\b\\ \b\b| \b\b/ \b\b- \b\b\\ \b\b| \b\b/ \b\b- \b\b\\ \b\b| \b\b/ \b\b- \b\b\\ \b\b| \b\b/ \b\b- \b\b\\ \b\b| \b\b/ \b\b- \b\b\\ \b\b| \b\b/ \b\b- \b\b\\ \b\b| \b\b/ \b\b- \b\b\\ \b\b| \b\b/ \b\b- \b\b\\ \b\b| \b\b/ \b\b- \b\b\\ \b\b| \b\b/ \b\b- \b\b\\ \b\b| \b\b/ \b\b- \b\b\\ \b\b| \b\b/ \b\b- \b\b\\ \b\b| \b\b/ \b\b- \b\b\\ \b\b| \b\b/ \b\b- \b\b\\ \b\b| \b\b/ \b\b- \b\b\\ \b\b| \b\b/ \b\b- \b\b\\ \b\b| \b\b/ \b\b- \b\b\\ \b\b| \b\b/ \b\b- \b\b\\ \b\b| \b\b/ \b\b- \b\b\\ \b\b| \b\b/ \b\b- \b\b\\ \b\b| \b\b/ \b\b- \b\b\\ \b\b| \b\b/ \b\b- \b\b\\ \b\b| \b\b/ \b\b- \b\b\\ \b\b| \b\b/ \b\b- \b\b\\ \b\b| \b\b/ \b\b- \b\b\\ \b\b| \b\b/ \b\b- \b\b\\ \b\b| \b\b/ \b\b- \b\b\\ \b\b| \b\b/ \b\b- \b\b\\ \b\b| \b\b/ \b\b- \b\b\\ \b\b| \b\b/ \b\b- \b\b\\ \b\b| \b\b/ \b\b- \b\b\\ \b\b| \b\b/ \b\b- \b\b\\ \b\b| \b\b/ \b\b- \b\b\\ \b\b| \b\b/ \b\b- \b\b\\ \b\b| \b\b/ \b\b- \b\b\\ \b\b| \b\b/ \b\b- \b\b\\ \b\b| \b\b/ \b\b- \b\b\\ \b\b| \b\b/ \b\b- \b\b\\ \b\b| \b\b/ \b\b- \b\b\\ \b\bdone\n",
            "Cloning into 'FastJTNNpy3'...\n",
            "remote: Enumerating objects: 402, done.\u001b[K\n",
            "remote: Counting objects: 100% (61/61), done.\u001b[K\n",
            "remote: Compressing objects: 100% (54/54), done.\u001b[K\n",
            "remote: Total 402 (delta 15), reused 42 (delta 6), pack-reused 341\u001b[K\n",
            "Receiving objects: 100% (402/402), 520.25 MiB | 36.52 MiB/s, done.\n",
            "Resolving deltas: 100% (45/45), done.\n",
            "Checking out files: 100% (308/308), done.\n"
          ],
          "name": "stdout"
        }
      ]
    },
    {
      "cell_type": "code",
      "metadata": {
        "id": "favG7qNbNZ6T"
      },
      "source": [
        ""
      ],
      "execution_count": null,
      "outputs": []
    },
    {
      "cell_type": "code",
      "metadata": {
        "colab": {
          "base_uri": "https://localhost:8080/"
        },
        "id": "Dl5d3QJn54CC",
        "outputId": "b3d7111a-b99c-4515-b76c-4eea8face95c"
      },
      "source": [
        "cd FastJTNNpy3"
      ],
      "execution_count": null,
      "outputs": [
        {
          "output_type": "stream",
          "text": [
            "/content/FastJTNNpy3\n"
          ],
          "name": "stdout"
        }
      ]
    },
    {
      "cell_type": "code",
      "metadata": {
        "id": "DIOxQoaA6LkA"
      },
      "source": [
        "import sys\n",
        "_ = (sys.path.append(\"/usr/local/lib/python3.6/site-packages\"))\n",
        "import pandas as pd \n",
        "import rdkit\n",
        "from rdkit import DataStructs, Chem \n",
        "from rdkit.Chem import MACCSkeys, Draw \n",
        "import torch"
      ],
      "execution_count": null,
      "outputs": []
    },
    {
      "cell_type": "code",
      "metadata": {
        "id": "uwT8UtSQ6Zfr"
      },
      "source": [
        "from fast_jtnn.mol_tree import main_mol_tree\n",
        "from fast_molvae.preprocess import main_preprocess \n",
        "from fast_molvae.vae_train import main_vae_train \n",
        "\n",
        "from fast_molvae.sample import main_sample "
      ],
      "execution_count": null,
      "outputs": []
    },
    {
      "cell_type": "code",
      "metadata": {
        "colab": {
          "base_uri": "https://localhost:8080/"
        },
        "id": "_Z31Ftg-7FcN",
        "outputId": "92b8430b-25d3-4aee-bee3-2efa1f863a78"
      },
      "source": [
        "main_sample('./data/vocab.txt', './fast_molvae/vae_model/sample.txt', 'fast_molvae/vae_model/model.epoch-19', 100)"
      ],
      "execution_count": null,
      "outputs": [
        {
          "output_type": "stream",
          "text": [
            "/usr/local/lib/python3.7/dist-packages/torch/nn/_reduction.py:42: UserWarning: size_average and reduce args will be deprecated, please use reduction='sum' instead.\n",
            "  warnings.warn(warning.format(ret))\n",
            "/usr/local/lib/python3.7/dist-packages/torch/nn/functional.py:1709: UserWarning: nn.functional.sigmoid is deprecated. Use torch.sigmoid instead.\n",
            "  warnings.warn(\"nn.functional.sigmoid is deprecated. Use torch.sigmoid instead.\")\n",
            "/usr/local/lib/python3.7/dist-packages/torch/nn/functional.py:1698: UserWarning: nn.functional.tanh is deprecated. Use torch.tanh instead.\n",
            "  warnings.warn(\"nn.functional.tanh is deprecated. Use torch.tanh instead.\")\n"
          ],
          "name": "stderr"
        }
      ]
    },
    {
      "cell_type": "code",
      "metadata": {
        "colab": {
          "base_uri": "https://localhost:8080/"
        },
        "id": "lQKshhCq7csP",
        "outputId": "2e37a8c1-999b-493b-f726-ed08336ee398"
      },
      "source": [
        ""
      ],
      "execution_count": null,
      "outputs": [
        {
          "output_type": "stream",
          "text": [
            "NVIDIA-SMI has failed because it couldn't communicate with the NVIDIA driver. Make sure that the latest NVIDIA driver is installed and running.\n",
            "\n"
          ],
          "name": "stdout"
        }
      ]
    },
    {
      "cell_type": "code",
      "metadata": {
        "id": "7MIBha_w7hmF"
      },
      "source": [
        ""
      ],
      "execution_count": null,
      "outputs": []
    },
    {
      "cell_type": "markdown",
      "metadata": {
        "id": "GdUfsUiQ9DW9"
      },
      "source": [
        ""
      ]
    }
  ]
}